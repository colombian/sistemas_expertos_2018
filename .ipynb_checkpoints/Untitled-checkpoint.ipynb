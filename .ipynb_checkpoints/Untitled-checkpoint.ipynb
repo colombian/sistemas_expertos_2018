{
 "cells": [
  {
   "cell_type": "code",
   "execution_count": null,
   "metadata": {},
   "outputs": [],
   "source": []
  },
  {
   "cell_type": "markdown",
   "metadata": {},
   "source": [
    "# Mezclas\n",
    "\n",
    "Al tener una colección de datos observable, y estudiarlo a traves de correlaciones, podemos encontrar que puede tener 1 o más parametros que rigen el comportamiento de los datos. La herramienta que nos permite el analisis de los parametros y como estos impactan el comportamiento de los datos es Hiden Markiv models o H.M.M.\n",
    "\n",
    "Los H.M.M son modelos de distribucion probabilisticos de proposito general para una o más variables. Y es especifico para casos de sieres de tiempo,categoricas y continuas.\n",
    "\n",
    "se debe evaluar cuál es la distribución que mejor se apega a los datos, y para el proposito de este documento (estudio de terremotos) se utilizara la distribución de poisson. \n",
    "\n",
    "Acontinuación un de la cuenta de sismos por año, estos datos nos permitiran ejemplificar las mezclas y como la necesidad de los datos para metricos nos insta a utilizar H.M.M.\n",
    "\n",
    "Año  | Sismos por año\n",
    "------------- | -------------\n",
    "1900\t|\t13\n",
    "1901\t|\t14\n",
    "1902\t|\t10\n",
    "1903\t|\t9\n",
    "1904\t|\t13\n",
    "1905\t|\t18\n",
    "1906\t|\t24\n",
    "1907\t|\t18\n",
    "1908\t|\t11\n",
    "1909\t|\t19\n",
    "1910\t|\t28\n",
    "1911\t|\t18\n",
    "1912\t|\t14\n",
    "1913\t|\t18\n",
    "1914\t|\t17\n",
    "1915\t|\t17\n",
    "1916\t|\t25\n",
    "1917\t|\t18\n",
    "1918\t|\t17\n",
    "1919\t|\t13\n",
    "1920\t|\t8\n",
    "1921\t|\t12\n",
    "1922\t|\t14\n",
    "1923\t|\t22\n",
    "1924\t|\t17\n",
    "1925\t|\t15\n",
    "1926\t|\t16\n",
    "1927\t|\t17\n",
    "1928\t|\t16\n",
    "1929\t|\t16\n",
    "1930\t|\t8\n",
    "1931\t|\t23\n",
    "1932\t|\t12\n",
    "1933\t|\t13\n",
    "1934\t|\t20\n",
    "1935\t|\t20\n",
    "1936\t|\t16\n",
    "1937\t|\t20\n",
    "1938\t|\t22\n",
    "1939\t|\t17\n",
    "1940\t|\t18\n",
    "1941\t|\t20\n",
    "1942\t|\t17\n",
    "1943\t|\t32\n",
    "1944\t|\t23\n",
    "1945\t|\t14\n",
    "1946\t|\t23\n",
    "1947\t|\t14\n",
    "1948\t|\t17\n",
    "1949\t|\t16\n",
    "1950\t|\t24\n",
    "1951\t|\t13\n",
    "1952\t|\t12\n",
    "1953\t|\t15\n",
    "1954\t|\t9\n",
    "1955\t|\t12\n",
    "1956\t|\t10\n",
    "1957\t|\t23\n",
    "1958\t|\t9\n",
    "1959\t|\t12\n",
    "1960\t|\t14\n",
    "1961\t|\t11\n",
    "1962\t|\t9\n",
    "1963\t|\t17\n",
    "1964\t|\t12\n",
    "1965\t|\t13\n",
    "1966\t|\t11\n",
    "1967\t|\t10\n",
    "1968\t|\t23\n",
    "1969\t|\t15\n",
    "1970\t|\t21\n",
    "1971\t|\t18\n",
    "1972\t|\t15\n",
    "1973\t|\t10\n",
    "1974\t|\t16\n",
    "1975\t|\t14\n",
    "1976\t|\t17\n",
    "1977\t|\t14\n",
    "1978\t|\t17\n",
    "1979\t|\t14\n",
    "1980\t|\t13\n",
    "1981\t|\t11\n",
    "1982\t|\t10\n",
    "1983\t|\t15\n",
    "1984\t|\t13\n",
    "1985\t|\t13\n",
    "1986\t|\t11\n",
    "1987\t|\t14\n",
    "1988\t|\t10\n",
    "1989\t|\t6\n",
    "1990\t|\t19\n",
    "1991\t|\t13\n",
    "1992\t|\t13\n",
    "1993\t|\t12\n",
    "1994\t|\t17\n",
    "1995\t|\t20\n",
    "1996\t|\t14\n",
    "1997\t|\t17\n",
    "1998\t|\t12\n",
    "1999\t|\t18\n",
    "2000\t|\t12\n",
    "2001\t|\t14\n",
    "2002\t|\t13\n",
    "2003\t|\t14\n",
    "2004\t|\t15\n",
    "2005\t|\t11\n",
    "2006\t|\t11\n",
    "2007\t|\t14"
   ]
  },
  {
   "cell_type": "code",
   "execution_count": 17,
   "metadata": {},
   "outputs": [
    {
     "data": {
      "text/html": [
       "<iframe id=\"igraph\" scrolling=\"no\" style=\"border:none;\" seamless=\"seamless\" src=\"https://plot.ly/~colombian/21.embed\" height=\"525px\" width=\"100%\"></iframe>"
      ],
      "text/plain": [
       "<plotly.tools.PlotlyDisplay object>"
      ]
     },
     "execution_count": 17,
     "metadata": {},
     "output_type": "execute_result"
    }
   ],
   "source": [
    "import plotly as pyl\n",
    "import plotly.plotly as py\n",
    "import plotly.graph_objs as go\n",
    "pyl.tools.set_credentials_file(username='colombian', api_key='PyNhs1H1VJZEuZxrH2E9')\n",
    "\n",
    "trace1 = go.Scatter(\n",
    "    x=[1900,1901,1902,1903,1904,1905,1906,1907,1908,1909,1910,1911,1912,1913,1914,1915,1916,\n",
    "       1917,1918,1919,1920,1921,1922,1923,1924,1925,1926,1927,1928,1929,1930,1931,1932,1933,\n",
    "       1934,1935,1936,1937,1938,1939,1940,1941,1942,1943,1944,1945,1946,1947,1948,1949,1950,\n",
    "       1951,1952,1953,1954,1955,1956,1957,1958,1959,1960,1961,1962,1963,1964,1965,1966,1967,\n",
    "       1968,1969,1970,1971,1972,1973,1974,1975,1976,1977,1978,1979,1980,1981,1982,1983,1984,\n",
    "       1985,1986,1987,1988,1989,1990,1991,1992,1993,1994,1995,1996,1997,1998,1999,2000,2001,\n",
    "       2002,2003,2004,2005,2006,2007],\n",
    "    y=[13,14,10,9,13,18,24,18,11,19,28,18,14,18,17,17,25,18,17,13,8,12,14,22,17,15,16,17,16,\n",
    "       16,8,23,12,13,20,20,16,20,22,17,18,20,17,32,23,14,23,14,17,16,24,13,12,15,9,12,10,23,\n",
    "       9,12,14,11,9,17,12,13,11,10,23,15,21,18,15,10,16,14,17,14,17,14,13,11,10,15,13,13,11,\n",
    "       14,10,6,19,13,13,12,17,20,14,17,12,18,12,14,13,14,15,11,11,14],\n",
    "    mode = 'lines+markers',\n",
    "    marker=dict(\n",
    "        size=5,\n",
    "        line=dict(\n",
    "            color='rgba(217, 217, 217, 0.14)',\n",
    "            width=1\n",
    "        ),\n",
    "        opacity=0.8\n",
    "    )\n",
    ")\n",
    "\n",
    "data = [trace1]\n",
    "layout = go.Layout(\n",
    "    margin=dict(\n",
    "        l=0,\n",
    "        r=0,\n",
    "        b=0,\n",
    "        t=0\n",
    "    )\n",
    ")\n",
    "fig = go.Figure(data=data,layout=layout)\n",
    "py.iplot(data,filename='basic-line')"
   ]
  },
  {
   "cell_type": "code",
   "execution_count": 27,
   "metadata": {
    "scrolled": true
   },
   "outputs": [
    {
     "data": {
      "text/html": [
       "<iframe id=\"igraph\" scrolling=\"no\" style=\"border:none;\" seamless=\"seamless\" src=\"https://plot.ly/~colombian/23.embed\" height=\"525px\" width=\"100%\"></iframe>"
      ],
      "text/plain": [
       "<plotly.tools.PlotlyDisplay object>"
      ]
     },
     "execution_count": 27,
     "metadata": {},
     "output_type": "execute_result"
    }
   ],
   "source": [
    "import plotly as pyl\n",
    "import plotly.plotly as py\n",
    "import plotly.graph_objs as go\n",
    "pyl.tools.set_credentials_file(username='colombian', api_key='PyNhs1H1VJZEuZxrH2E9')\n",
    "trace1 = go.Bar(\n",
    "    x=[1900,1901,1902,1903,1904,1905,1906,1907,1908,1909,1910,1911,1912,1913,1914,1915,1916,\n",
    "       1917,1918,1919,1920,1921,1922,1923,1924,1925,1926,1927,1928,1929,1930,1931,1932,1933,\n",
    "       1934,1935,1936,1937,1938,1939,1940,1941,1942,1943,1944,1945,1946,1947,1948,1949,1950,\n",
    "       1951,1952,1953,1954,1955,1956,1957,1958,1959,1960,1961,1962,1963,1964,1965,1966,1967,\n",
    "       1968,1969,1970,1971,1972,1973,1974,1975,1976,1977,1978,1979,1980,1981,1982,1983,1984,\n",
    "       1985,1986,1987,1988,1989,1990,1991,1992,1993,1994,1995,1996,1997,1998,1999,2000,2001,\n",
    "       2002,2003,2004,2005,2006,2007],\n",
    "    y=[13,14,10,9,13,18,24,18,11,19,28,18,14,18,17,17,25,18,17,13,8,12,14,22,17,15,16,17,16,\n",
    "       16,8,23,12,13,20,20,16,20,22,17,18,20,17,32,23,14,23,14,17,16,24,13,12,15,9,12,10,23,\n",
    "       9,12,14,11,9,17,12,13,11,10,23,15,21,18,15,10,16,14,17,14,17,14,13,11,10,15,13,13,11,\n",
    "       14,10,6,19,13,13,12,17,20,14,17,12,18,12,14,13,14,15,11,11,14]\n",
    ")\n",
    "\n",
    "trace2 = go.Scatter(\n",
    "    x=[1900,1901,1902,1903,1904,1905,1906,1907,1908,1909,1910,1911,1912,1913,1914,1915,1916,\n",
    "       1917,1918,1919,1920,1921,1922,1923,1924,1925,1926,1927,1928,1929,1930,1931,1932,1933,\n",
    "       1934,1935,1936,1937,1938,1939,1940,1941,1942,1943,1944,1945,1946,1947,1948,1949,1950,\n",
    "       1951,1952,1953,1954,1955,1956,1957,1958,1959,1960,1961,1962,1963,1964,1965,1966,1967,\n",
    "       1968,1969,1970,1971,1972,1973,1974,1975,1976,1977,1978,1979,1980,1981,1982,1983,1984,\n",
    "       1985,1986,1987,1988,1989,1990,1991,1992,1993,1994,1995,1996,1997,1998,1999,2000,2001,\n",
    "       2002,2003,2004,2005,2006,2007], \n",
    "    y=[1,1,1,1,1,1,1,1,1,1,1,1,1,1,1,1,1,1,1,1,1,1,1,1,1,1,1,1,1,1,1,1,1,1,1,1,1,1,1,1,1,1,\n",
    "          1,1,1,1,1,1,1,1,1,1,1,1,1,1,1,1,1,1,1,1,1,1,1,1,1,1,1,1,1,1,1,1,1,1,1,1,1,1,1,1,1,1,\n",
    "          1,1,1,1,1,1,1,1,1,1,1,1,1,1,1,1,1,1,1,1,1,1,1,1],\n",
    "                    mode='markers'\n",
    ")\n",
    "data = [trace1, trace2]\n",
    "\n",
    "py.iplot(data, filename='basic-bar')"
   ]
  },
  {
   "cell_type": "markdown",
   "metadata": {},
   "source": [
    "## Modelo de mezclas independientes\n",
    "\n",
    "Al utilizar la distribucion de poisson $p(x) = \\frac{exp(-\\lambda)\\lambda^x}{x!}$ tenemos que la media es de 15, pero segun poisson la media y la varianza son iguales, para este ejemplo la varianza es de 20.33, no coinciden con la distribución de Pisson, sin embargo el fenomeno satisface las condiciones para utilizar la distribució de Poisson. Se plantea la hipostesis, que el resultado está siendo afectado por 1 de 2 distribuciones de Poisson con medias $\\lambda_1, \\lambda_2$.\n",
    "\n",
    "La selección de que media impacta el proceso está dada por un mecanismo aleatorio, suponemos que la media $\\lambda_1$ es seleccionada con probabilidad $\\delta_1$ y $\\lambda_2$ con probabilidad $\\delta_2= 1-\\delta_1$.\n",
    "\n",
    "Vamos a definir un mecanismo C para definir las mezclas donde: \n",
    "\n",
    "$C=\\left\\{ \\begin{array}{lcc}\n",
    "             1 & con & probabilidad &\\delta_1 \\\\\n",
    "             \\\\ 2 & con & probabilidad &\\delta_2 \\\\ \n",
    "             \\end{array}\n",
    "   \\right.$\n",
    "   \n",
    "La funcion de probabilidad para $X$ esta dada por $$\\sum_{i=1}{\\delta_i p_i}$$\n",
    "\n",
    "## Estimación del parametro\n",
    "\n",
    "Para la estimación de los parametros un de una distribución mixta está dada por la máximo parentesco (Maximum Likeleyhood) la cual es la misma es para casos discretos o continuos. $$L(\\theta_1,...,\\theta_m,\\delta_1,...,\\delta_m)= \\prod_{j=1}^{n}\\sum_{i=1}^{m}\\delta_i p_i(x_j,\\theta_i)$$. Los $\\theta$ son los vectores de los parametros de la distribución y los $\\delta$ son los parametros de mezcla, los cuales suman 1; los $x_i,...,x_n$ son las observaciones.\n",
    "\n",
    "Para el caso de m=2 (2 componentes de la distribución de Poisson) con medias $\\lambda_1$ y $\\lambda_2$, y sean $\\delta_1$ y $\\delta_2=1-\\delta_1$. Tenemos entonces que la distribución p es: $$p(x)=\\delta_1 \\frac{\\lambda_i^{x_i} exp(-\\lambda_i)}{x!}+(1-\\delta_1)\\frac{\\lambda_2^{x_i} exp(-\\lambda_2)}{x_i!}$$\n",
    "\n",
    "Asumiendo que $\\delta_2 = 1-\\delta_1$, los parametros a buscar son $\\lambda_1, \\lambda_2,\\delta_1$ y el máximo parentesco es:$$L(\\lambda_1, \\lambda_2, \\delta_1 | x_1,...,x_n) = \\prod_{i=1}^n (\\delta_1 \\frac{\\lambda_1^{x_i}e^{-\\lambda_1}}{x_i!} + (1-\\delta_1) \\frac{\\lambda_2^{x_i}e^{-\\lambda_2}}{x_i!})$$"
   ]
  },
  {
   "cell_type": "code",
   "execution_count": 219,
   "metadata": {},
   "outputs": [
    {
     "data": {
      "text/plain": [
       "3289.2171927413874"
      ]
     },
     "execution_count": 219,
     "metadata": {},
     "output_type": "execute_result"
    }
   ],
   "source": [
    "import numpy as np\n",
    "import scipy as sp\n",
    "from scipy.stats import poisson\n",
    "import pandas as pd\n",
    "\n",
    "data=[13,14,10,9,13,18,24,18,11,19,28,18,14,18,17,17,25,18,17,13,8,12,14,22,17,15,16,17,16,\n",
    "       16,8,23,12,13,20,20,16,20,22,17,18,20,17,32,23,14,23,14,17,16,24,13,12,15,9,12,10,23,\n",
    "       9,12,14,11,9,17,12,13,11,10,23,15,21,18,15,10,16,14,17,14,17,14,13,11,10,15,13,13,11,\n",
    "       14,10,6,19,13,13,12,17,20,14,17,12,18,12,14,13,14,15,11,11,14]\n",
    "\n",
    "def n2w(lamda, delta):\n",
    "    return np.log(lamda+(delta[1:]/(1-np.sum(delta[1:]))).tolist())\n",
    "\n",
    "\n",
    "def w2n(wpar):\n",
    "    m = int(((len(wpar)+1)/2))\n",
    "    lamda = np.exp(wpar[0:m]).tolist()\n",
    "    delta = np.exp([0]+wpar[m:(2*m)].tolist())\n",
    "    return [lamda,(delta/np.sum(delta)).tolist()]\n",
    "\n",
    "def mllk(wpar,x):\n",
    "    zzz = w2n(wpar)\n",
    "    return -np.sum(np.log([np.dot(poisson.pmf(i, pd.Series(zzz[0])).tolist(),zzz[1]) for i in data]))\n",
    "    \n",
    "wpar=n2w([1,1,1,1],[0.5,0.17, 0.22, 1-0.5-0.17-0.22])\n",
    "mllk(wpar,data)\n"
   ]
  },
  {
   "cell_type": "code",
   "execution_count": 75,
   "metadata": {},
   "outputs": [
    {
     "data": {
      "text/plain": [
       "6"
      ]
     },
     "execution_count": 75,
     "metadata": {},
     "output_type": "execute_result"
    }
   ],
   "source": [
    "3+3"
   ]
  }
 ],
 "metadata": {
  "kernelspec": {
   "display_name": "Python 3",
   "language": "python",
   "name": "python3"
  },
  "language_info": {
   "codemirror_mode": {
    "name": "ipython",
    "version": 3
   },
   "file_extension": ".py",
   "mimetype": "text/x-python",
   "name": "python",
   "nbconvert_exporter": "python",
   "pygments_lexer": "ipython3",
   "version": "3.7.0"
  }
 },
 "nbformat": 4,
 "nbformat_minor": 2
}
